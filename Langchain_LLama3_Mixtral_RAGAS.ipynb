{
  "cells": [
    {
      "cell_type": "markdown",
      "source": [
        "# Summary:\n",
        "Here, I attempted to build a **chatbot as an AI-based conversational tool** to improve the user experience while inquiring about the Italian population in 2023. Two open-source Large Language Models (LLMs)—**Llama3** from Meta and **Mixtral** from Mistral—were employed to comprehend user prompts and produce human-like responses in the information retrieval process, as part of the **Retrieval Augmented Generation (RAG)** method. Additionally, this procedure was implemented using the **LangChain** orchestration framework.\n",
        "\n",
        "\n"
      ],
      "metadata": {
        "id": "0KRX9k5Yp1-P"
      }
    },
    {
      "cell_type": "code",
      "execution_count": null,
      "metadata": {
        "collapsed": true,
        "id": "_WoYNpLqVKXu"
      },
      "outputs": [],
      "source": [
        "# Install required libraries and frameworks for the project\n",
        "! pip install langchain_community\n",
        "! pip install langchain\n",
        "! pip install sentence-transformers\n",
        "! pip install faiss-cpu\n",
        "! pip install --upgrade gradio\n",
        "! pip install langchain_groq\n",
        "! pip install langchain_openai\n",
        "! pip install ragas"
      ]
    },
    {
      "cell_type": "code",
      "execution_count": null,
      "metadata": {
        "id": "dTlfsOL8WLDV"
      },
      "outputs": [],
      "source": [
        "# Import required modules and classes\n",
        "\n",
        "import pandas as pd #For data manipulation and To load and process CSV documents.\n",
        "from langchain.text_splitter import RecursiveCharacterTextSplitter #For splitting text into smaller chunks for processing.\n",
        "from langchain.embeddings import HuggingFaceEmbeddings #To generate text embeddings using HuggingFace models.\n",
        "from langchain.vectorstores import FAISS #For efficient vector similarity search.\n",
        "from langchain_groq import ChatGroq #To integrate Groq-based conversational capabilities and deploy LLMs easily.\n",
        "from langchain.memory import ConversationBufferMemory #To maintain a memory buffer for conversational context.\n",
        "from langchain.chains import ConversationalRetrievalChain #For building conversational systems with retrieval capabilities.\n",
        "from langchain.prompts import PromptTemplate #For defining structured prompts for language models.\n",
        "from langchain_core.prompts import ChatPromptTemplate\n",
        "import os #Used to interact with environment variables, such as setting `OPENAI_API_KEY` for authentication"
      ]
    },
    {
      "cell_type": "code",
      "source": [
        "from getpass import getpass #To securely input sensitive information like API keys.\n",
        "os.environ[\"OPENAI_API_KEY\"] = \"\" #Personal OpenAI key must be added here"
      ],
      "metadata": {
        "id": "j5ac0HkkG3gP"
      },
      "execution_count": null,
      "outputs": []
    },
    {
      "cell_type": "markdown",
      "source": [
        "Load the dataset from a CSV file into a pandas DataFrame.\n",
        "(The file contains data about the population in Italy for 2023)"
      ],
      "metadata": {
        "id": "swboq1D826qx"
      }
    },
    {
      "cell_type": "code",
      "source": [
        "df = pd.read_csv('/content/popolazione_Italia_2023_Places_updated.csv')"
      ],
      "metadata": {
        "id": "sFYox1mYB3aj"
      },
      "execution_count": null,
      "outputs": []
    },
    {
      "cell_type": "code",
      "source": [
        "# Path to the FAISS vector store database.\n",
        "# This is where the precomputed vector embeddings are stored for efficient retrieval.\n",
        "DB_FAISS_PATH = \"vectorstore/db_faiss\""
      ],
      "metadata": {
        "id": "dNGSYDhyCMuo"
      },
      "execution_count": null,
      "outputs": []
    },
    {
      "cell_type": "code",
      "source": [
        "df.head(10)"
      ],
      "metadata": {
        "colab": {
          "base_uri": "https://localhost:8080/",
          "height": 362
        },
        "id": "MdXaJcoY09SQ",
        "outputId": "4141c9eb-98f4-4ecb-983b-353058608739"
      },
      "execution_count": null,
      "outputs": [
        {
          "output_type": "execute_result",
          "data": {
            "text/plain": [
              "      Type of place Codice            Luogo              Codice_Luogo  \\\n",
              "0           Country     IT           Italia               [IT] Italia   \n",
              "1  Group of regions   ITCD             Nord               [ITCD] Nord   \n",
              "2  Group of regions    ITC       Nord-ovest          [ITC] Nord-ovest   \n",
              "3            Region   ITC1         Piemonte           [ITC1] Piemonte   \n",
              "4          Province  ITC11           Torino            [ITC11] Torino   \n",
              "5            Cities   1001            Agliè            [001001] Agliè   \n",
              "6            Cities   1002          Airasca          [001002] Airasca   \n",
              "7            Cities   1003     Ala di Stura     [001003] Ala di Stura   \n",
              "8            Cities   1004  Albiano d'Ivrea  [001004] Albiano d'Ivrea   \n",
              "9            Cities   1006           Almese           [001006] Almese   \n",
              "\n",
              "     Maschi   Femmine    Totale    province      region group_of_region  \\\n",
              "0  28814832  30182369  58997201       Italy       Italy           Italy   \n",
              "1  13429002  13988146  27417148        Nord        Nord            Nord   \n",
              "2   7759911   8098715  15858626  Nord-ovest  Nord-ovest      Nord-ovest   \n",
              "3   2072771   2178580   4251351    Piemonte    Piemonte      Nord-ovest   \n",
              "4   1069885   1134747   2204632      Torino    Piemonte      Nord-ovest   \n",
              "5      1229      1339      2568      Torino    Piemonte      Nord-ovest   \n",
              "6      1871      1798      3669      Torino    Piemonte      Nord-ovest   \n",
              "7       241       223       464      Torino    Piemonte      Nord-ovest   \n",
              "8       776       852      1628      Torino    Piemonte      Nord-ovest   \n",
              "9      3095      3197      6292      Torino    Piemonte      Nord-ovest   \n",
              "\n",
              "  Country  \n",
              "0   Italy  \n",
              "1   Italy  \n",
              "2   Italy  \n",
              "3   Italy  \n",
              "4   Italy  \n",
              "5   Italy  \n",
              "6   Italy  \n",
              "7   Italy  \n",
              "8   Italy  \n",
              "9   Italy  "
            ],
            "text/html": [
              "\n",
              "  <div id=\"df-0b7052c0-7ae8-4b27-aee5-0f4421156415\" class=\"colab-df-container\">\n",
              "    <div>\n",
              "<style scoped>\n",
              "    .dataframe tbody tr th:only-of-type {\n",
              "        vertical-align: middle;\n",
              "    }\n",
              "\n",
              "    .dataframe tbody tr th {\n",
              "        vertical-align: top;\n",
              "    }\n",
              "\n",
              "    .dataframe thead th {\n",
              "        text-align: right;\n",
              "    }\n",
              "</style>\n",
              "<table border=\"1\" class=\"dataframe\">\n",
              "  <thead>\n",
              "    <tr style=\"text-align: right;\">\n",
              "      <th></th>\n",
              "      <th>Type of place</th>\n",
              "      <th>Codice</th>\n",
              "      <th>Luogo</th>\n",
              "      <th>Codice_Luogo</th>\n",
              "      <th>Maschi</th>\n",
              "      <th>Femmine</th>\n",
              "      <th>Totale</th>\n",
              "      <th>province</th>\n",
              "      <th>region</th>\n",
              "      <th>group_of_region</th>\n",
              "      <th>Country</th>\n",
              "    </tr>\n",
              "  </thead>\n",
              "  <tbody>\n",
              "    <tr>\n",
              "      <th>0</th>\n",
              "      <td>Country</td>\n",
              "      <td>IT</td>\n",
              "      <td>Italia</td>\n",
              "      <td>[IT] Italia</td>\n",
              "      <td>28814832</td>\n",
              "      <td>30182369</td>\n",
              "      <td>58997201</td>\n",
              "      <td>Italy</td>\n",
              "      <td>Italy</td>\n",
              "      <td>Italy</td>\n",
              "      <td>Italy</td>\n",
              "    </tr>\n",
              "    <tr>\n",
              "      <th>1</th>\n",
              "      <td>Group of regions</td>\n",
              "      <td>ITCD</td>\n",
              "      <td>Nord</td>\n",
              "      <td>[ITCD] Nord</td>\n",
              "      <td>13429002</td>\n",
              "      <td>13988146</td>\n",
              "      <td>27417148</td>\n",
              "      <td>Nord</td>\n",
              "      <td>Nord</td>\n",
              "      <td>Nord</td>\n",
              "      <td>Italy</td>\n",
              "    </tr>\n",
              "    <tr>\n",
              "      <th>2</th>\n",
              "      <td>Group of regions</td>\n",
              "      <td>ITC</td>\n",
              "      <td>Nord-ovest</td>\n",
              "      <td>[ITC] Nord-ovest</td>\n",
              "      <td>7759911</td>\n",
              "      <td>8098715</td>\n",
              "      <td>15858626</td>\n",
              "      <td>Nord-ovest</td>\n",
              "      <td>Nord-ovest</td>\n",
              "      <td>Nord-ovest</td>\n",
              "      <td>Italy</td>\n",
              "    </tr>\n",
              "    <tr>\n",
              "      <th>3</th>\n",
              "      <td>Region</td>\n",
              "      <td>ITC1</td>\n",
              "      <td>Piemonte</td>\n",
              "      <td>[ITC1] Piemonte</td>\n",
              "      <td>2072771</td>\n",
              "      <td>2178580</td>\n",
              "      <td>4251351</td>\n",
              "      <td>Piemonte</td>\n",
              "      <td>Piemonte</td>\n",
              "      <td>Nord-ovest</td>\n",
              "      <td>Italy</td>\n",
              "    </tr>\n",
              "    <tr>\n",
              "      <th>4</th>\n",
              "      <td>Province</td>\n",
              "      <td>ITC11</td>\n",
              "      <td>Torino</td>\n",
              "      <td>[ITC11] Torino</td>\n",
              "      <td>1069885</td>\n",
              "      <td>1134747</td>\n",
              "      <td>2204632</td>\n",
              "      <td>Torino</td>\n",
              "      <td>Piemonte</td>\n",
              "      <td>Nord-ovest</td>\n",
              "      <td>Italy</td>\n",
              "    </tr>\n",
              "    <tr>\n",
              "      <th>5</th>\n",
              "      <td>Cities</td>\n",
              "      <td>1001</td>\n",
              "      <td>Agliè</td>\n",
              "      <td>[001001] Agliè</td>\n",
              "      <td>1229</td>\n",
              "      <td>1339</td>\n",
              "      <td>2568</td>\n",
              "      <td>Torino</td>\n",
              "      <td>Piemonte</td>\n",
              "      <td>Nord-ovest</td>\n",
              "      <td>Italy</td>\n",
              "    </tr>\n",
              "    <tr>\n",
              "      <th>6</th>\n",
              "      <td>Cities</td>\n",
              "      <td>1002</td>\n",
              "      <td>Airasca</td>\n",
              "      <td>[001002] Airasca</td>\n",
              "      <td>1871</td>\n",
              "      <td>1798</td>\n",
              "      <td>3669</td>\n",
              "      <td>Torino</td>\n",
              "      <td>Piemonte</td>\n",
              "      <td>Nord-ovest</td>\n",
              "      <td>Italy</td>\n",
              "    </tr>\n",
              "    <tr>\n",
              "      <th>7</th>\n",
              "      <td>Cities</td>\n",
              "      <td>1003</td>\n",
              "      <td>Ala di Stura</td>\n",
              "      <td>[001003] Ala di Stura</td>\n",
              "      <td>241</td>\n",
              "      <td>223</td>\n",
              "      <td>464</td>\n",
              "      <td>Torino</td>\n",
              "      <td>Piemonte</td>\n",
              "      <td>Nord-ovest</td>\n",
              "      <td>Italy</td>\n",
              "    </tr>\n",
              "    <tr>\n",
              "      <th>8</th>\n",
              "      <td>Cities</td>\n",
              "      <td>1004</td>\n",
              "      <td>Albiano d'Ivrea</td>\n",
              "      <td>[001004] Albiano d'Ivrea</td>\n",
              "      <td>776</td>\n",
              "      <td>852</td>\n",
              "      <td>1628</td>\n",
              "      <td>Torino</td>\n",
              "      <td>Piemonte</td>\n",
              "      <td>Nord-ovest</td>\n",
              "      <td>Italy</td>\n",
              "    </tr>\n",
              "    <tr>\n",
              "      <th>9</th>\n",
              "      <td>Cities</td>\n",
              "      <td>1006</td>\n",
              "      <td>Almese</td>\n",
              "      <td>[001006] Almese</td>\n",
              "      <td>3095</td>\n",
              "      <td>3197</td>\n",
              "      <td>6292</td>\n",
              "      <td>Torino</td>\n",
              "      <td>Piemonte</td>\n",
              "      <td>Nord-ovest</td>\n",
              "      <td>Italy</td>\n",
              "    </tr>\n",
              "  </tbody>\n",
              "</table>\n",
              "</div>\n",
              "    <div class=\"colab-df-buttons\">\n",
              "\n",
              "  <div class=\"colab-df-container\">\n",
              "    <button class=\"colab-df-convert\" onclick=\"convertToInteractive('df-0b7052c0-7ae8-4b27-aee5-0f4421156415')\"\n",
              "            title=\"Convert this dataframe to an interactive table.\"\n",
              "            style=\"display:none;\">\n",
              "\n",
              "  <svg xmlns=\"http://www.w3.org/2000/svg\" height=\"24px\" viewBox=\"0 -960 960 960\">\n",
              "    <path d=\"M120-120v-720h720v720H120Zm60-500h600v-160H180v160Zm220 220h160v-160H400v160Zm0 220h160v-160H400v160ZM180-400h160v-160H180v160Zm440 0h160v-160H620v160ZM180-180h160v-160H180v160Zm440 0h160v-160H620v160Z\"/>\n",
              "  </svg>\n",
              "    </button>\n",
              "\n",
              "  <style>\n",
              "    .colab-df-container {\n",
              "      display:flex;\n",
              "      gap: 12px;\n",
              "    }\n",
              "\n",
              "    .colab-df-convert {\n",
              "      background-color: #E8F0FE;\n",
              "      border: none;\n",
              "      border-radius: 50%;\n",
              "      cursor: pointer;\n",
              "      display: none;\n",
              "      fill: #1967D2;\n",
              "      height: 32px;\n",
              "      padding: 0 0 0 0;\n",
              "      width: 32px;\n",
              "    }\n",
              "\n",
              "    .colab-df-convert:hover {\n",
              "      background-color: #E2EBFA;\n",
              "      box-shadow: 0px 1px 2px rgba(60, 64, 67, 0.3), 0px 1px 3px 1px rgba(60, 64, 67, 0.15);\n",
              "      fill: #174EA6;\n",
              "    }\n",
              "\n",
              "    .colab-df-buttons div {\n",
              "      margin-bottom: 4px;\n",
              "    }\n",
              "\n",
              "    [theme=dark] .colab-df-convert {\n",
              "      background-color: #3B4455;\n",
              "      fill: #D2E3FC;\n",
              "    }\n",
              "\n",
              "    [theme=dark] .colab-df-convert:hover {\n",
              "      background-color: #434B5C;\n",
              "      box-shadow: 0px 1px 3px 1px rgba(0, 0, 0, 0.15);\n",
              "      filter: drop-shadow(0px 1px 2px rgba(0, 0, 0, 0.3));\n",
              "      fill: #FFFFFF;\n",
              "    }\n",
              "  </style>\n",
              "\n",
              "    <script>\n",
              "      const buttonEl =\n",
              "        document.querySelector('#df-0b7052c0-7ae8-4b27-aee5-0f4421156415 button.colab-df-convert');\n",
              "      buttonEl.style.display =\n",
              "        google.colab.kernel.accessAllowed ? 'block' : 'none';\n",
              "\n",
              "      async function convertToInteractive(key) {\n",
              "        const element = document.querySelector('#df-0b7052c0-7ae8-4b27-aee5-0f4421156415');\n",
              "        const dataTable =\n",
              "          await google.colab.kernel.invokeFunction('convertToInteractive',\n",
              "                                                    [key], {});\n",
              "        if (!dataTable) return;\n",
              "\n",
              "        const docLinkHtml = 'Like what you see? Visit the ' +\n",
              "          '<a target=\"_blank\" href=https://colab.research.google.com/notebooks/data_table.ipynb>data table notebook</a>'\n",
              "          + ' to learn more about interactive tables.';\n",
              "        element.innerHTML = '';\n",
              "        dataTable['output_type'] = 'display_data';\n",
              "        await google.colab.output.renderOutput(dataTable, element);\n",
              "        const docLink = document.createElement('div');\n",
              "        docLink.innerHTML = docLinkHtml;\n",
              "        element.appendChild(docLink);\n",
              "      }\n",
              "    </script>\n",
              "  </div>\n",
              "\n",
              "\n",
              "<div id=\"df-52b486b4-c940-43f3-b080-71a5e91a6192\">\n",
              "  <button class=\"colab-df-quickchart\" onclick=\"quickchart('df-52b486b4-c940-43f3-b080-71a5e91a6192')\"\n",
              "            title=\"Suggest charts\"\n",
              "            style=\"display:none;\">\n",
              "\n",
              "<svg xmlns=\"http://www.w3.org/2000/svg\" height=\"24px\"viewBox=\"0 0 24 24\"\n",
              "     width=\"24px\">\n",
              "    <g>\n",
              "        <path d=\"M19 3H5c-1.1 0-2 .9-2 2v14c0 1.1.9 2 2 2h14c1.1 0 2-.9 2-2V5c0-1.1-.9-2-2-2zM9 17H7v-7h2v7zm4 0h-2V7h2v10zm4 0h-2v-4h2v4z\"/>\n",
              "    </g>\n",
              "</svg>\n",
              "  </button>\n",
              "\n",
              "<style>\n",
              "  .colab-df-quickchart {\n",
              "      --bg-color: #E8F0FE;\n",
              "      --fill-color: #1967D2;\n",
              "      --hover-bg-color: #E2EBFA;\n",
              "      --hover-fill-color: #174EA6;\n",
              "      --disabled-fill-color: #AAA;\n",
              "      --disabled-bg-color: #DDD;\n",
              "  }\n",
              "\n",
              "  [theme=dark] .colab-df-quickchart {\n",
              "      --bg-color: #3B4455;\n",
              "      --fill-color: #D2E3FC;\n",
              "      --hover-bg-color: #434B5C;\n",
              "      --hover-fill-color: #FFFFFF;\n",
              "      --disabled-bg-color: #3B4455;\n",
              "      --disabled-fill-color: #666;\n",
              "  }\n",
              "\n",
              "  .colab-df-quickchart {\n",
              "    background-color: var(--bg-color);\n",
              "    border: none;\n",
              "    border-radius: 50%;\n",
              "    cursor: pointer;\n",
              "    display: none;\n",
              "    fill: var(--fill-color);\n",
              "    height: 32px;\n",
              "    padding: 0;\n",
              "    width: 32px;\n",
              "  }\n",
              "\n",
              "  .colab-df-quickchart:hover {\n",
              "    background-color: var(--hover-bg-color);\n",
              "    box-shadow: 0 1px 2px rgba(60, 64, 67, 0.3), 0 1px 3px 1px rgba(60, 64, 67, 0.15);\n",
              "    fill: var(--button-hover-fill-color);\n",
              "  }\n",
              "\n",
              "  .colab-df-quickchart-complete:disabled,\n",
              "  .colab-df-quickchart-complete:disabled:hover {\n",
              "    background-color: var(--disabled-bg-color);\n",
              "    fill: var(--disabled-fill-color);\n",
              "    box-shadow: none;\n",
              "  }\n",
              "\n",
              "  .colab-df-spinner {\n",
              "    border: 2px solid var(--fill-color);\n",
              "    border-color: transparent;\n",
              "    border-bottom-color: var(--fill-color);\n",
              "    animation:\n",
              "      spin 1s steps(1) infinite;\n",
              "  }\n",
              "\n",
              "  @keyframes spin {\n",
              "    0% {\n",
              "      border-color: transparent;\n",
              "      border-bottom-color: var(--fill-color);\n",
              "      border-left-color: var(--fill-color);\n",
              "    }\n",
              "    20% {\n",
              "      border-color: transparent;\n",
              "      border-left-color: var(--fill-color);\n",
              "      border-top-color: var(--fill-color);\n",
              "    }\n",
              "    30% {\n",
              "      border-color: transparent;\n",
              "      border-left-color: var(--fill-color);\n",
              "      border-top-color: var(--fill-color);\n",
              "      border-right-color: var(--fill-color);\n",
              "    }\n",
              "    40% {\n",
              "      border-color: transparent;\n",
              "      border-right-color: var(--fill-color);\n",
              "      border-top-color: var(--fill-color);\n",
              "    }\n",
              "    60% {\n",
              "      border-color: transparent;\n",
              "      border-right-color: var(--fill-color);\n",
              "    }\n",
              "    80% {\n",
              "      border-color: transparent;\n",
              "      border-right-color: var(--fill-color);\n",
              "      border-bottom-color: var(--fill-color);\n",
              "    }\n",
              "    90% {\n",
              "      border-color: transparent;\n",
              "      border-bottom-color: var(--fill-color);\n",
              "    }\n",
              "  }\n",
              "</style>\n",
              "\n",
              "  <script>\n",
              "    async function quickchart(key) {\n",
              "      const quickchartButtonEl =\n",
              "        document.querySelector('#' + key + ' button');\n",
              "      quickchartButtonEl.disabled = true;  // To prevent multiple clicks.\n",
              "      quickchartButtonEl.classList.add('colab-df-spinner');\n",
              "      try {\n",
              "        const charts = await google.colab.kernel.invokeFunction(\n",
              "            'suggestCharts', [key], {});\n",
              "      } catch (error) {\n",
              "        console.error('Error during call to suggestCharts:', error);\n",
              "      }\n",
              "      quickchartButtonEl.classList.remove('colab-df-spinner');\n",
              "      quickchartButtonEl.classList.add('colab-df-quickchart-complete');\n",
              "    }\n",
              "    (() => {\n",
              "      let quickchartButtonEl =\n",
              "        document.querySelector('#df-52b486b4-c940-43f3-b080-71a5e91a6192 button');\n",
              "      quickchartButtonEl.style.display =\n",
              "        google.colab.kernel.accessAllowed ? 'block' : 'none';\n",
              "    })();\n",
              "  </script>\n",
              "</div>\n",
              "\n",
              "    </div>\n",
              "  </div>\n"
            ],
            "application/vnd.google.colaboratory.intrinsic+json": {
              "type": "dataframe",
              "variable_name": "df",
              "summary": "{\n  \"name\": \"df\",\n  \"rows\": 8043,\n  \"fields\": [\n    {\n      \"column\": \"Type of place\",\n      \"properties\": {\n        \"dtype\": \"category\",\n        \"num_unique_values\": 5,\n        \"samples\": [\n          \"Group of regions\",\n          \"Cities\",\n          \"Region\"\n        ],\n        \"semantic_type\": \"\",\n        \"description\": \"\"\n      }\n    },\n    {\n      \"column\": \"Codice\",\n      \"properties\": {\n        \"dtype\": \"string\",\n        \"num_unique_values\": 8043,\n        \"samples\": [\n          \"59005\",\n          \"83089\",\n          \"69099\"\n        ],\n        \"semantic_type\": \"\",\n        \"description\": \"\"\n      }\n    },\n    {\n      \"column\": \"Luogo\",\n      \"properties\": {\n        \"dtype\": \"string\",\n        \"num_unique_values\": 7937,\n        \"samples\": [\n          \"Pabillonis\",\n          \"Vetralla\",\n          \"Pompu\"\n        ],\n        \"semantic_type\": \"\",\n        \"description\": \"\"\n      }\n    },\n    {\n      \"column\": \"Codice_Luogo\",\n      \"properties\": {\n        \"dtype\": \"string\",\n        \"num_unique_values\": 8043,\n        \"samples\": [\n          \"[059005] Cisterna di Latina\",\n          \"[083089] Santa Teresa di Riva\",\n          \"[069099] Vasto\"\n        ],\n        \"semantic_type\": \"\",\n        \"description\": \"\"\n      }\n    },\n    {\n      \"column\": \"Maschi\",\n      \"properties\": {\n        \"dtype\": \"number\",\n        \"std\": 412593,\n        \"min\": 0,\n        \"max\": 28814832,\n        \"num_unique_values\": 4182,\n        \"samples\": [\n          1230,\n          1068,\n          3321\n        ],\n        \"semantic_type\": \"\",\n        \"description\": \"\"\n      }\n    },\n    {\n      \"column\": \"Femmine\",\n      \"properties\": {\n        \"dtype\": \"number\",\n        \"std\": 431884,\n        \"min\": 0,\n        \"max\": 30182369,\n        \"num_unique_values\": 4192,\n        \"samples\": [\n          25941,\n          756,\n          1808\n        ],\n        \"semantic_type\": \"\",\n        \"description\": \"\"\n      }\n    },\n    {\n      \"column\": \"Totale\",\n      \"properties\": {\n        \"dtype\": \"string\",\n        \"num_unique_values\": 5359,\n        \"samples\": [\n          \"24438\",\n          \"1615\",\n          \"2492\"\n        ],\n        \"semantic_type\": \"\",\n        \"description\": \"\"\n      }\n    },\n    {\n      \"column\": \"province\",\n      \"properties\": {\n        \"dtype\": \"category\",\n        \"num_unique_values\": 111,\n        \"samples\": [\n          \"Isernia\",\n          \"Biella\",\n          \"Torino\"\n        ],\n        \"semantic_type\": \"\",\n        \"description\": \"\"\n      }\n    },\n    {\n      \"column\": \"region\",\n      \"properties\": {\n        \"dtype\": \"category\",\n        \"num_unique_values\": 25,\n        \"samples\": [\n          \"Provincia Autonoma Bolzano / Bozen\",\n          \"Lazio\",\n          \"Italy\"\n        ],\n        \"semantic_type\": \"\",\n        \"description\": \"\"\n      }\n    },\n    {\n      \"column\": \"group_of_region\",\n      \"properties\": {\n        \"dtype\": \"category\",\n        \"num_unique_values\": 8,\n        \"samples\": [\n          \"Nord\",\n          \"Mezzogiorno\",\n          \"Italy\"\n        ],\n        \"semantic_type\": \"\",\n        \"description\": \"\"\n      }\n    },\n    {\n      \"column\": \"Country\",\n      \"properties\": {\n        \"dtype\": \"category\",\n        \"num_unique_values\": 1,\n        \"samples\": [\n          \"Italy\"\n        ],\n        \"semantic_type\": \"\",\n        \"description\": \"\"\n      }\n    }\n  ]\n}"
            }
          },
          "metadata": {},
          "execution_count": 11
        }
      ]
    },
    {
      "cell_type": "markdown",
      "source": [
        "Now, In the following part, the code processes population data from a DataFrame and converts it into a LangChain Document object. It loops through the DataFrame, creating descriptive sentences for each location in Italy, including details like the type of place, region, province, and population statistics. The sentences are combined into a single text string, separated by \"#####\". Finally, the text is wrapped in a Document object with metadata indicating the source is local, making it compatible with LangChain workflows like StuffDocumentsChain."
      ],
      "metadata": {
        "id": "O5Q2Ri8B3cA4"
      }
    },
    {
      "cell_type": "code",
      "source": [
        "from langchain.schema.document import Document\n",
        "text = \"\"\n",
        "for ind in df.index:\n",
        "    text += f\"{df['Luogo'][ind]} is kind of {df['Type of place'][ind]} of the part {df['group_of_region'][ind]} of Italy in province {df['province'][ind]} and region of {df['region'][ind]} that has {df['Maschi'][ind]} male population and {df['Femmine'][ind]} female population and {df['Totale'][ind]} persons as total population#####\"\n",
        "#Converting text to LangChain documents so that StuffDocumentsChain can understand Input\n",
        "documents = Document(page_content=text, metadata={\"source\": \"local\"})"
      ],
      "metadata": {
        "id": "_ODxsFfFGoxD"
      },
      "execution_count": null,
      "outputs": []
    },
    {
      "cell_type": "markdown",
      "source": [
        "A **chunk** is a smaller segment of a larger text, used to make processing more efficient and manageable, especially in applications like information retrieval or language model inputs. Splitting text into chunks helps preserve context while staying within token limits of language models.\n",
        "\n",
        "This code splits the large text document into smaller, overlapping chunks for better processing. It uses a RecursiveCharacterTextSplitter, specifying a chunk size of 250 characters and an overlap of 20 characters to retain context between chunks. The text is split at the separator \"#####\". The resulting chunks are stored in chunked_docs, and the print statement outputs the total number of chunks created."
      ],
      "metadata": {
        "id": "f36m6jkN31O5"
      }
    },
    {
      "cell_type": "code",
      "execution_count": null,
      "metadata": {
        "colab": {
          "base_uri": "https://localhost:8080/"
        },
        "id": "8JwSM9BoWVtC",
        "outputId": "5e7a27ee-da48-4b58-b5b2-3427ecc0f8a4"
      },
      "outputs": [
        {
          "output_type": "stream",
          "name": "stdout",
          "text": [
            "8057\n"
          ]
        }
      ],
      "source": [
        "# Split the text into Chunks\n",
        "text_splitter = RecursiveCharacterTextSplitter(chunk_size=250, chunk_overlap=20, separators=\"[#####]\")\n",
        "chunked_docs  = text_splitter.split_documents([documents])\n",
        "\n",
        "print(len(chunked_docs))"
      ]
    },
    {
      "cell_type": "code",
      "source": [
        "chunked_docs[1345]"
      ],
      "metadata": {
        "colab": {
          "base_uri": "https://localhost:8080/"
        },
        "id": "OJ6nm0Jo2_Y-",
        "outputId": "5a1ff111-2581-413a-c24b-7923c406be8f"
      },
      "execution_count": null,
      "outputs": [
        {
          "output_type": "execute_result",
          "data": {
            "text/plain": [
              "Document(metadata={'source': 'local'}, page_content='#####Albisola Superiore is kind of Cities of the part Nord-ovest of Italy in province Savona and region of Liguria that has 4483 male population and 5114 female population and 9597 persons as total population####')"
            ]
          },
          "metadata": {},
          "execution_count": 14
        }
      ]
    },
    {
      "cell_type": "code",
      "execution_count": null,
      "metadata": {
        "collapsed": true,
        "id": "v1ts10UPWimU"
      },
      "outputs": [],
      "source": [
        "# Download Sentence Transformers Embedding From Hugging Face\n",
        "embeddings = HuggingFaceEmbeddings(model_name = 'sentence-transformers/all-MiniLM-L6-v2')"
      ]
    },
    {
      "cell_type": "code",
      "execution_count": null,
      "metadata": {
        "id": "tKR5S3oLWwTa"
      },
      "outputs": [],
      "source": [
        "# Converting the text Chunks into embeddings and saving the embeddings into FAISS Knowledge Base\n",
        "docsearch = FAISS.from_documents(chunked_docs, embeddings)\n",
        "\n",
        "docsearch.save_local(DB_FAISS_PATH)"
      ]
    },
    {
      "cell_type": "markdown",
      "source": [
        "In the next cell, a conversational AI system for answering questions about population data in different types of areas has been set up. It initializes a ChatGroq model with a specified temperature, model name, and API key. A system message is defined to guide the assistant's behavior, and the human variable represents the dynamic input text. A ChatPromptTemplate is created to structure the conversation. The chain of the prompt and model is established. A retriever is configured to search for similar documents, returning the top 3 matches. Finally, a ConversationalRetrievalChain is set up, combining the model and retriever to answer questions based on the provided data and return relevant source documents."
      ],
      "metadata": {
        "id": "sy4HgmPs4LWW"
      }
    },
    {
      "cell_type": "code",
      "execution_count": null,
      "metadata": {
        "id": "jXldT4doautZ"
      },
      "outputs": [],
      "source": [
        "llm = ChatGroq(temperature=0.5, model_name='Mixtral-8x7b-32768', groq_api_key=\"Groq API key\") #Personal Groq API key muste be added\n",
        "# llm = ChatGroq(temperature=0.5, model_name='Llama3-8b-8192', groq_api_key=\"Groq API key\")\n",
        "system = \"\"\"You are an assistant to answer the questions about population in different types of areas. recognize the type of location and answer the question based on its information.\"\"\"\n",
        "human = \"{text}\"\n",
        "prompt = ChatPromptTemplate.from_messages([(\"system\", system), (\"human\", \"{text}\")])\n",
        "chain = prompt | llm\n",
        "retriever = docsearch.as_retriever(\n",
        "    search_type=\"similarity\",\n",
        "    search_kwargs={'k':3}\n",
        ")\n",
        "qa = ConversationalRetrievalChain.from_llm(\n",
        "    llm=llm,\n",
        "    retriever=retriever,\n",
        "    return_source_documents=True,\n",
        "    verbose=True\n",
        ")"
      ]
    },
    {
      "cell_type": "markdown",
      "source": [
        "The following code sets up a simple chatbot interface using Gradio, which interacts with the previously defined LangChain model to answer questions about the population in Italy for 2023. The chatbot function handles user queries, providing responses based on a conversational history. If the user enters 'exit', the conversation ends; if the input is empty, the bot prompts for a valid query. For valid queries, the bot retrieves an answer using the ConversationalRetrievalChain, appends the question and answer to the chat history, and returns the response.\n",
        "\n",
        "The Gradio interface (gr.Interface) is configured with:\n",
        "\n",
        "A Textbox for user input (where the user can ask questions).\n",
        "A State to maintain the chat history.\n",
        "A Textbox for displaying the bot's response.\n",
        "The interface is launched with a title and description, making it easy to interact with the chatbot."
      ],
      "metadata": {
        "id": "boQrCHsd4sau"
      }
    },
    {
      "cell_type": "code",
      "source": [
        "import gradio as gr\n",
        "def chatbot(query, chat_history):\n",
        "    if query == 'exit':\n",
        "        return 'Exiting', chat_history\n",
        "\n",
        "    if query == '':\n",
        "        return 'Please enter a valid prompt.', chat_history\n",
        "\n",
        "    result = qa({\"question\": query, \"chat_history\": chat_history})\n",
        "    chat_history.append((query, result['answer']))\n",
        "    return result['answer'], chat_history\n",
        "\n",
        "# Initial empty chat history\n",
        "chat_history = []\n",
        "\n",
        "# Define the Gradio interface\n",
        "iface = gr.Interface(\n",
        "    fn=chatbot,\n",
        "    inputs=[\n",
        "        gr.Textbox(lines=1, placeholder=\"Ask your question about population in Italy of the year 2023:\", label=\"DataDive: Your Database Navigator:\"),\n",
        "        gr.State(chat_history)\n",
        "    ],\n",
        "    outputs=[\n",
        "        gr.Textbox(label=\"Response\"),\n",
        "        gr.State()\n",
        "    ],\n",
        "    title=\"Chatbot based on Langchain using Mixtral\",\n",
        "    description=\"Enter your query and receive a response from the chatbot.\"\n",
        ")\n",
        "\n",
        "# Launch the interface\n",
        "iface.launch()"
      ],
      "metadata": {
        "colab": {
          "base_uri": "https://localhost:8080/",
          "height": 625
        },
        "id": "cOtknbz78dLa",
        "outputId": "0d1366a9-1fbe-444d-c10e-4272656d2805"
      },
      "execution_count": null,
      "outputs": [
        {
          "output_type": "stream",
          "name": "stdout",
          "text": [
            "Setting queue=True in a Colab notebook requires sharing enabled. Setting `share=True` (you can turn this off by setting `share=False` in `launch()` explicitly).\n",
            "\n",
            "Colab notebook detected. To show errors in colab notebook, set debug=True in launch()\n",
            "Running on public URL: https://bf77a9e09194786d65.gradio.live\n",
            "\n",
            "This share link expires in 72 hours. For free permanent hosting and GPU upgrades, run `gradio deploy` from Terminal to deploy to Spaces (https://huggingface.co/spaces)\n"
          ]
        },
        {
          "output_type": "display_data",
          "data": {
            "text/plain": [
              "<IPython.core.display.HTML object>"
            ],
            "text/html": [
              "<div><iframe src=\"https://bf77a9e09194786d65.gradio.live\" width=\"100%\" height=\"500\" allow=\"autoplay; camera; microphone; clipboard-read; clipboard-write;\" frameborder=\"0\" allowfullscreen></iframe></div>"
            ]
          },
          "metadata": {}
        },
        {
          "output_type": "execute_result",
          "data": {
            "text/plain": []
          },
          "metadata": {},
          "execution_count": 31
        }
      ]
    },
    {
      "cell_type": "markdown",
      "source": [
        "# **Assessment Part:**\n",
        "\n",
        "RAGAS (Retrieval Augmented Generation Assessment) evaluates the functionality of the\n",
        "RAG system in various capacities. It evaluates the retrieval system's ability to identify pertinent\n",
        "passages, the LLM's ability to utilize them correctly, and the overall quality of the produced\n",
        "output.The efficacy of different components inside the RAG pipeline profoundly influences the\n",
        "overall experience. Ragas provides metrics designed to assess each element of the RAG\n",
        "pipeline independently."
      ],
      "metadata": {
        "id": "KgMwirhW4zIa"
      }
    },
    {
      "cell_type": "markdown",
      "source": [
        "\n",
        "In the context of RAGAS (Retrieval-Augmented Generation for Answering System), ground truth refers to the reference or correct answer against which the system's performance is evaluated. It serves as the benchmark for assessing the accuracy and relevance of the generated responses. In RAGAS assessment for some metrics, the model's output is compared to the ground truth to measure how well it retrieves the correct information from external sources and uses that information to generate an appropriate answer."
      ],
      "metadata": {
        "id": "BM_grBBD50fh"
      }
    },
    {
      "cell_type": "code",
      "source": [
        "#Set up Groun Truth\n",
        "eval_questions = [\n",
        "     \"What is the total population of province Prato?\",\n",
        "     \"where is Assisi and what is the male population of there?\",\n",
        "     \"which city in Napoli province is the most populous?\",\n",
        "     \"Compare the population of men and women in the city of Roma.\",\n",
        "     \"Tell me about the difference in sex between the people who live in Cusano Milanino?\",\n",
        "     \"What is the total population of Leini?\",\n",
        "     \"What is the total and Male population of Novara province?\",\n",
        "     \"What is the female population of Palmi?\",\n",
        "     \"What is the percentage of the total population of Italy that resides in the region Lombardy\",\n",
        "     \"What is the ratio of male to female population in the province Latina?\",\n",
        "     \"In Sicilia region, how does the female population compare to the male population in terms of percentage\",\n",
        "     \"tell me about the population of women in Belmonte Mezzagno?\",\n",
        "     \"what is the exact female population of Tivoli?\",\n",
        "     \"How many male populations do reside in Ercolano?\",\n",
        "     \"Tell me about the total population of Bari?\",\n",
        "     \"How many people live in the city of Castellaneta?\",\n",
        "     \"Which region in the Nord-est group has the most evenly balanced gender ratio?\",\n",
        "     \"What is the male population of the region Piemonte?\",\n",
        "     \"what is population of the region Emilia-Romagna?\",\n",
        "     \"How does the male population of Alseno city compare to the female population\"\n",
        "]\n",
        "\n",
        "eval_answers = [\n",
        "     \"The total population in Prato is 259244\",\n",
        "     \"Assisi as a city in province Perugia and region of Umbria in center of Italy has 13339 male population\",\n",
        "     \"The city of Napoli with total population of 917510 is the most populous city in the province of Napoli\",\n",
        "     \"According to the provided data, the population of men in the city of Roma is 1308818, and the population of women is 1446491.\",\n",
        "     \"The male population of Cusano Milanino is 8991, while the female population is 9900. Thus, the difference between the male and female population is 909.\",\n",
        "     \"The total population of Leini is 16294.\",\n",
        "     \"the total population Novara province is 362502 and male population in Novara province is 176980\",\n",
        "     \"The female population of Palmi is 8733\",\n",
        "     \"About 17% of all the people who live in Italy live in the area of Lombardy.\",\n",
        "     \"The male to female population ratio in province Latina is 98%\",\n",
        "     \"In Sicilia, the female population is approximately 51.3%, while the male population is 48.7%\",\n",
        "     \"in the city of Belmonte Mezzagno, the women population is 5530\",\n",
        "     \"The female population of Tivoli is 28032\",\n",
        "     \"the male population in Ercolano is 24407\",\n",
        "     \"Bari has a total population of 1225048 as a province, and 316736 as a city.\",\n",
        "     \"the total population of Castellaneta is 16220 people\",\n",
        "     \"The most balanced gender ratio in the Nord-est group is found in Veneto\",\n",
        "     \"The male population of the region Piemonte is 2,072,771\",\n",
        "     \"The total population of the region Emilia-Romagna is 4435758\",\n",
        "     \"the male population in Alseno city is 2315, and the female population is 2374\"\n",
        "]\n",
        "\n",
        "examples = [\n",
        "    {\"query\": q, \"ground_truth\": [eval_answers[i]]}\n",
        "    for i, q in enumerate(eval_questions)\n",
        "]"
      ],
      "metadata": {
        "id": "yrS_IeGuvAVe"
      },
      "execution_count": null,
      "outputs": []
    },
    {
      "cell_type": "code",
      "source": [
        "examples"
      ],
      "metadata": {
        "id": "NQjGXQCRJQeL"
      },
      "execution_count": null,
      "outputs": []
    },
    {
      "cell_type": "code",
      "source": [
        "from ragas.integrations.langchain import EvaluatorChain\n",
        "#EvaluatorChain is a tool that helps assess the effectiveness of a RAGAS system integrated with LangChain by evaluating its retrieval and generation capabilities."
      ],
      "metadata": {
        "id": "xuRqRxqd1Ko5"
      },
      "execution_count": null,
      "outputs": []
    },
    {
      "cell_type": "code",
      "source": [
        "qasecond = ConversationalRetrievalChain.from_llm(\n",
        "    llm=llm,\n",
        "    retriever=retriever,\n",
        "    return_source_documents=True,\n",
        "    verbose=True\n",
        ")"
      ],
      "metadata": {
        "id": "ifqKNT6WA6iR"
      },
      "execution_count": null,
      "outputs": []
    },
    {
      "cell_type": "code",
      "source": [
        "result0 = qasecond({\"question\": eval_questions[0] , \"chat_history\": []})\n",
        "result0"
      ],
      "metadata": {
        "id": "eJ9unxSP3AFv"
      },
      "execution_count": null,
      "outputs": []
    },
    {
      "cell_type": "markdown",
      "source": [
        "**Metrics definition:**\n",
        "\n",
        "These metrics are categorized into two groups: Generation assessment and retrieval\n",
        "assessment, which are described as follows.\n",
        "\n",
        "\n",
        "1.Generation metrics:\n",
        "\n",
        "*   Faithfulness: This metric measures the factual consistency of the generated answer against the given context.\n",
        "*   Answer Correctness: This metric measures the accuracy of the generated answer compared to the ground truth.\n",
        "*   Answer Relevancy: These metrics gauge the relevancy of the retrieved context, calculated based on both the question and contexts.\n",
        "\n",
        "2.Retrieval metrics:\n",
        "\n",
        "\n",
        "\n",
        "*   Context Recall: This metric measures how much the retrieved context aligns with the annotated answer, treated as the ground truth.\n",
        "*   Context Precision: This metric examines how well important information is prioritized in various situations.\n"
      ],
      "metadata": {
        "id": "BC24KoDc7IOv"
      }
    },
    {
      "cell_type": "code",
      "source": [
        "from ragas.integrations.langchain import EvaluatorChain\n",
        "#from ragas.langchain.evalchain import RagasEvaluatorChain\n",
        "from ragas.metrics import (\n",
        "    faithfulness,\n",
        "    answer_correctness,\n",
        "    context_precision,\n",
        "    context_recall,\n",
        "    answer_relevancy\n",
        ")"
      ],
      "metadata": {
        "id": "hRGUe5ZECLyZ"
      },
      "execution_count": null,
      "outputs": []
    },
    {
      "cell_type": "code",
      "source": [
        "faithfulness_chain = EvaluatorChain(metric=faithfulness)\n",
        "answer_rel_chain = EvaluatorChain(metric=answer_correctness)\n",
        "context_rel_chain = EvaluatorChain(metric=context_precision)\n",
        "context_recall_chain = EvaluatorChain(metric=context_recall)"
      ],
      "metadata": {
        "id": "jVas0tVH2y9P"
      },
      "execution_count": null,
      "outputs": []
    },
    {
      "cell_type": "code",
      "source": [
        "result0['answer']"
      ],
      "metadata": {
        "colab": {
          "base_uri": "https://localhost:8080/",
          "height": 35
        },
        "id": "7EBcsHutrzOd",
        "outputId": "9d038b89-a4b3-4820-8248-6e10c42c670c"
      },
      "execution_count": null,
      "outputs": [
        {
          "output_type": "execute_result",
          "data": {
            "text/plain": [
              "'The total population of province Prato is 259244 persons.'"
            ],
            "application/vnd.google.colaboratory.intrinsic+json": {
              "type": "string"
            }
          },
          "metadata": {},
          "execution_count": 76
        }
      ]
    },
    {
      "cell_type": "code",
      "source": [
        "results = []\n",
        "contexts = []\n",
        "for query in eval_questions:\n",
        "    resulttt = qasecond({\"question\": query , \"chat_history\" : []})\n",
        "\n",
        "    results.append(resulttt['answer'])\n",
        "    sources = resulttt[\"source_documents\"]\n",
        "    contents = []\n",
        "    for i in range(len(sources)):\n",
        "        contents.append(sources[i].page_content)\n",
        "    contexts.append(contents)"
      ],
      "metadata": {
        "collapsed": true,
        "id": "EIYUcfKcp7-e"
      },
      "execution_count": null,
      "outputs": []
    },
    {
      "cell_type": "code",
      "source": [
        "resulttt"
      ],
      "metadata": {
        "id": "TO_Cv_EbLmFf"
      },
      "execution_count": null,
      "outputs": []
    },
    {
      "cell_type": "code",
      "source": [
        "from datasets import Dataset"
      ],
      "metadata": {
        "id": "GPkECocD7JIr"
      },
      "execution_count": null,
      "outputs": []
    },
    {
      "cell_type": "code",
      "source": [
        "from ragas import evaluate"
      ],
      "metadata": {
        "id": "5N_dDCsg7jo1"
      },
      "execution_count": null,
      "outputs": []
    },
    {
      "cell_type": "markdown",
      "source": [
        "\n",
        "The following code defines a dictionary \"d\" that contains key evaluation components: question, answer, contexts, and ground_truth. The question and answer represent the inputs and outputs of the evaluation, while contexts refer to the relevant documents or information used in generating the answers, and ground_truth provides the correct answers for comparison. The dictionary d is then converted into a dataset using Dataset.from_dict(d). The evaluate function is used to assess the model's performance, using multiple metrics such as faithfulness, answer correctness, answer relevancy, context precision, and context recall. The evaluation results are converted into a Pandas DataFrame (score_df), which is then saved as a CSV file (EvaluationScores.csv) for further analysis and reporting, with UTF-8 encoding and no row index.\n",
        "\n",
        "\n",
        "\n",
        "\n",
        "\n",
        "\n"
      ],
      "metadata": {
        "id": "toql-VRw-GkG"
      }
    },
    {
      "cell_type": "code",
      "source": [
        "d = {\n",
        "    \"question\": eval_questions,\n",
        "    \"answer\": results,\n",
        "    \"contexts\": contexts,\n",
        "    \"ground_truth\": eval_answers\n",
        "}\n",
        "\n",
        "dataset = Dataset.from_dict(d)\n",
        "score = evaluate(dataset,metrics=[faithfulness,answer_correctness, answer_relevancy, context_precision, context_recall])\n",
        "score_df = score.to_pandas()\n",
        "score_df.to_csv(\"EvaluationScores.csv\", encoding=\"utf-8\", index=False)\n"
      ],
      "metadata": {
        "colab": {
          "base_uri": "https://localhost:8080/",
          "height": 49,
          "referenced_widgets": [
            "7fc0744252d841dba7eb2a5f27758a43",
            "1bef0f809e694992b7d9c61b86c09e5d",
            "8185dcd8fa934ab589c745f78b61ed73",
            "7e13f5e0f8064200a17eefa20c1c50e6",
            "88fa5e31e8b9478cb881c8091a97e956",
            "c2e9b54cb0634428b2b368ef260946a5",
            "368907edafd441aca481da26b0e043e4",
            "3513e307eb674500bf6ad186051a0c91",
            "fd1809bf53324a0cb7cab26dd6080489",
            "62a4f3868c994f58bbfb54936a4198e3",
            "2260a46d393047aeb71e65cf9f2d0873"
          ]
        },
        "id": "_WCtoSYNseKD",
        "outputId": "445e0e27-4d66-4baf-e86b-621d98836344"
      },
      "execution_count": null,
      "outputs": [
        {
          "output_type": "display_data",
          "data": {
            "text/plain": [
              "Evaluating:   0%|          | 0/100 [00:00<?, ?it/s]"
            ],
            "application/vnd.jupyter.widget-view+json": {
              "version_major": 2,
              "version_minor": 0,
              "model_id": "7fc0744252d841dba7eb2a5f27758a43"
            }
          },
          "metadata": {}
        }
      ]
    },
    {
      "cell_type": "code",
      "source": [
        "score_df[['faithfulness','answer_correctness','answer_relevancy', 'context_precision', 'context_recall']].mean(axis=0)\n"
      ],
      "metadata": {
        "colab": {
          "base_uri": "https://localhost:8080/",
          "height": 240
        },
        "id": "S9GUlVKH8UJZ",
        "outputId": "d2a30102-accc-44eb-f37e-daef3f238a46"
      },
      "execution_count": null,
      "outputs": [
        {
          "output_type": "execute_result",
          "data": {
            "text/plain": [
              "faithfulness          0.880357\n",
              "answer_correctness    0.688299\n",
              "answer_relevancy      0.726833\n",
              "context_precision     0.900000\n",
              "context_recall        0.750000\n",
              "dtype: float64"
            ],
            "text/html": [
              "<div>\n",
              "<style scoped>\n",
              "    .dataframe tbody tr th:only-of-type {\n",
              "        vertical-align: middle;\n",
              "    }\n",
              "\n",
              "    .dataframe tbody tr th {\n",
              "        vertical-align: top;\n",
              "    }\n",
              "\n",
              "    .dataframe thead th {\n",
              "        text-align: right;\n",
              "    }\n",
              "</style>\n",
              "<table border=\"1\" class=\"dataframe\">\n",
              "  <thead>\n",
              "    <tr style=\"text-align: right;\">\n",
              "      <th></th>\n",
              "      <th>0</th>\n",
              "    </tr>\n",
              "  </thead>\n",
              "  <tbody>\n",
              "    <tr>\n",
              "      <th>faithfulness</th>\n",
              "      <td>0.880357</td>\n",
              "    </tr>\n",
              "    <tr>\n",
              "      <th>answer_correctness</th>\n",
              "      <td>0.688299</td>\n",
              "    </tr>\n",
              "    <tr>\n",
              "      <th>answer_relevancy</th>\n",
              "      <td>0.726833</td>\n",
              "    </tr>\n",
              "    <tr>\n",
              "      <th>context_precision</th>\n",
              "      <td>0.900000</td>\n",
              "    </tr>\n",
              "    <tr>\n",
              "      <th>context_recall</th>\n",
              "      <td>0.750000</td>\n",
              "    </tr>\n",
              "  </tbody>\n",
              "</table>\n",
              "</div><br><label><b>dtype:</b> float64</label>"
            ]
          },
          "metadata": {},
          "execution_count": 35
        }
      ]
    }
  ],
  "metadata": {
    "colab": {
      "provenance": []
    },
    "kernelspec": {
      "display_name": "Python 3",
      "name": "python3"
    },
    "language_info": {
      "name": "python"
    },
    "widgets": {
      "application/vnd.jupyter.widget-state+json": {
        "7fc0744252d841dba7eb2a5f27758a43": {
          "model_module": "@jupyter-widgets/controls",
          "model_name": "HBoxModel",
          "model_module_version": "1.5.0",
          "state": {
            "_dom_classes": [],
            "_model_module": "@jupyter-widgets/controls",
            "_model_module_version": "1.5.0",
            "_model_name": "HBoxModel",
            "_view_count": null,
            "_view_module": "@jupyter-widgets/controls",
            "_view_module_version": "1.5.0",
            "_view_name": "HBoxView",
            "box_style": "",
            "children": [
              "IPY_MODEL_1bef0f809e694992b7d9c61b86c09e5d",
              "IPY_MODEL_8185dcd8fa934ab589c745f78b61ed73",
              "IPY_MODEL_7e13f5e0f8064200a17eefa20c1c50e6"
            ],
            "layout": "IPY_MODEL_88fa5e31e8b9478cb881c8091a97e956"
          }
        },
        "1bef0f809e694992b7d9c61b86c09e5d": {
          "model_module": "@jupyter-widgets/controls",
          "model_name": "HTMLModel",
          "model_module_version": "1.5.0",
          "state": {
            "_dom_classes": [],
            "_model_module": "@jupyter-widgets/controls",
            "_model_module_version": "1.5.0",
            "_model_name": "HTMLModel",
            "_view_count": null,
            "_view_module": "@jupyter-widgets/controls",
            "_view_module_version": "1.5.0",
            "_view_name": "HTMLView",
            "description": "",
            "description_tooltip": null,
            "layout": "IPY_MODEL_c2e9b54cb0634428b2b368ef260946a5",
            "placeholder": "​",
            "style": "IPY_MODEL_368907edafd441aca481da26b0e043e4",
            "value": "Evaluating: 100%"
          }
        },
        "8185dcd8fa934ab589c745f78b61ed73": {
          "model_module": "@jupyter-widgets/controls",
          "model_name": "FloatProgressModel",
          "model_module_version": "1.5.0",
          "state": {
            "_dom_classes": [],
            "_model_module": "@jupyter-widgets/controls",
            "_model_module_version": "1.5.0",
            "_model_name": "FloatProgressModel",
            "_view_count": null,
            "_view_module": "@jupyter-widgets/controls",
            "_view_module_version": "1.5.0",
            "_view_name": "ProgressView",
            "bar_style": "success",
            "description": "",
            "description_tooltip": null,
            "layout": "IPY_MODEL_3513e307eb674500bf6ad186051a0c91",
            "max": 100,
            "min": 0,
            "orientation": "horizontal",
            "style": "IPY_MODEL_fd1809bf53324a0cb7cab26dd6080489",
            "value": 100
          }
        },
        "7e13f5e0f8064200a17eefa20c1c50e6": {
          "model_module": "@jupyter-widgets/controls",
          "model_name": "HTMLModel",
          "model_module_version": "1.5.0",
          "state": {
            "_dom_classes": [],
            "_model_module": "@jupyter-widgets/controls",
            "_model_module_version": "1.5.0",
            "_model_name": "HTMLModel",
            "_view_count": null,
            "_view_module": "@jupyter-widgets/controls",
            "_view_module_version": "1.5.0",
            "_view_name": "HTMLView",
            "description": "",
            "description_tooltip": null,
            "layout": "IPY_MODEL_62a4f3868c994f58bbfb54936a4198e3",
            "placeholder": "​",
            "style": "IPY_MODEL_2260a46d393047aeb71e65cf9f2d0873",
            "value": " 100/100 [00:34&lt;00:00,  1.44it/s]"
          }
        },
        "88fa5e31e8b9478cb881c8091a97e956": {
          "model_module": "@jupyter-widgets/base",
          "model_name": "LayoutModel",
          "model_module_version": "1.2.0",
          "state": {
            "_model_module": "@jupyter-widgets/base",
            "_model_module_version": "1.2.0",
            "_model_name": "LayoutModel",
            "_view_count": null,
            "_view_module": "@jupyter-widgets/base",
            "_view_module_version": "1.2.0",
            "_view_name": "LayoutView",
            "align_content": null,
            "align_items": null,
            "align_self": null,
            "border": null,
            "bottom": null,
            "display": null,
            "flex": null,
            "flex_flow": null,
            "grid_area": null,
            "grid_auto_columns": null,
            "grid_auto_flow": null,
            "grid_auto_rows": null,
            "grid_column": null,
            "grid_gap": null,
            "grid_row": null,
            "grid_template_areas": null,
            "grid_template_columns": null,
            "grid_template_rows": null,
            "height": null,
            "justify_content": null,
            "justify_items": null,
            "left": null,
            "margin": null,
            "max_height": null,
            "max_width": null,
            "min_height": null,
            "min_width": null,
            "object_fit": null,
            "object_position": null,
            "order": null,
            "overflow": null,
            "overflow_x": null,
            "overflow_y": null,
            "padding": null,
            "right": null,
            "top": null,
            "visibility": null,
            "width": null
          }
        },
        "c2e9b54cb0634428b2b368ef260946a5": {
          "model_module": "@jupyter-widgets/base",
          "model_name": "LayoutModel",
          "model_module_version": "1.2.0",
          "state": {
            "_model_module": "@jupyter-widgets/base",
            "_model_module_version": "1.2.0",
            "_model_name": "LayoutModel",
            "_view_count": null,
            "_view_module": "@jupyter-widgets/base",
            "_view_module_version": "1.2.0",
            "_view_name": "LayoutView",
            "align_content": null,
            "align_items": null,
            "align_self": null,
            "border": null,
            "bottom": null,
            "display": null,
            "flex": null,
            "flex_flow": null,
            "grid_area": null,
            "grid_auto_columns": null,
            "grid_auto_flow": null,
            "grid_auto_rows": null,
            "grid_column": null,
            "grid_gap": null,
            "grid_row": null,
            "grid_template_areas": null,
            "grid_template_columns": null,
            "grid_template_rows": null,
            "height": null,
            "justify_content": null,
            "justify_items": null,
            "left": null,
            "margin": null,
            "max_height": null,
            "max_width": null,
            "min_height": null,
            "min_width": null,
            "object_fit": null,
            "object_position": null,
            "order": null,
            "overflow": null,
            "overflow_x": null,
            "overflow_y": null,
            "padding": null,
            "right": null,
            "top": null,
            "visibility": null,
            "width": null
          }
        },
        "368907edafd441aca481da26b0e043e4": {
          "model_module": "@jupyter-widgets/controls",
          "model_name": "DescriptionStyleModel",
          "model_module_version": "1.5.0",
          "state": {
            "_model_module": "@jupyter-widgets/controls",
            "_model_module_version": "1.5.0",
            "_model_name": "DescriptionStyleModel",
            "_view_count": null,
            "_view_module": "@jupyter-widgets/base",
            "_view_module_version": "1.2.0",
            "_view_name": "StyleView",
            "description_width": ""
          }
        },
        "3513e307eb674500bf6ad186051a0c91": {
          "model_module": "@jupyter-widgets/base",
          "model_name": "LayoutModel",
          "model_module_version": "1.2.0",
          "state": {
            "_model_module": "@jupyter-widgets/base",
            "_model_module_version": "1.2.0",
            "_model_name": "LayoutModel",
            "_view_count": null,
            "_view_module": "@jupyter-widgets/base",
            "_view_module_version": "1.2.0",
            "_view_name": "LayoutView",
            "align_content": null,
            "align_items": null,
            "align_self": null,
            "border": null,
            "bottom": null,
            "display": null,
            "flex": null,
            "flex_flow": null,
            "grid_area": null,
            "grid_auto_columns": null,
            "grid_auto_flow": null,
            "grid_auto_rows": null,
            "grid_column": null,
            "grid_gap": null,
            "grid_row": null,
            "grid_template_areas": null,
            "grid_template_columns": null,
            "grid_template_rows": null,
            "height": null,
            "justify_content": null,
            "justify_items": null,
            "left": null,
            "margin": null,
            "max_height": null,
            "max_width": null,
            "min_height": null,
            "min_width": null,
            "object_fit": null,
            "object_position": null,
            "order": null,
            "overflow": null,
            "overflow_x": null,
            "overflow_y": null,
            "padding": null,
            "right": null,
            "top": null,
            "visibility": null,
            "width": null
          }
        },
        "fd1809bf53324a0cb7cab26dd6080489": {
          "model_module": "@jupyter-widgets/controls",
          "model_name": "ProgressStyleModel",
          "model_module_version": "1.5.0",
          "state": {
            "_model_module": "@jupyter-widgets/controls",
            "_model_module_version": "1.5.0",
            "_model_name": "ProgressStyleModel",
            "_view_count": null,
            "_view_module": "@jupyter-widgets/base",
            "_view_module_version": "1.2.0",
            "_view_name": "StyleView",
            "bar_color": null,
            "description_width": ""
          }
        },
        "62a4f3868c994f58bbfb54936a4198e3": {
          "model_module": "@jupyter-widgets/base",
          "model_name": "LayoutModel",
          "model_module_version": "1.2.0",
          "state": {
            "_model_module": "@jupyter-widgets/base",
            "_model_module_version": "1.2.0",
            "_model_name": "LayoutModel",
            "_view_count": null,
            "_view_module": "@jupyter-widgets/base",
            "_view_module_version": "1.2.0",
            "_view_name": "LayoutView",
            "align_content": null,
            "align_items": null,
            "align_self": null,
            "border": null,
            "bottom": null,
            "display": null,
            "flex": null,
            "flex_flow": null,
            "grid_area": null,
            "grid_auto_columns": null,
            "grid_auto_flow": null,
            "grid_auto_rows": null,
            "grid_column": null,
            "grid_gap": null,
            "grid_row": null,
            "grid_template_areas": null,
            "grid_template_columns": null,
            "grid_template_rows": null,
            "height": null,
            "justify_content": null,
            "justify_items": null,
            "left": null,
            "margin": null,
            "max_height": null,
            "max_width": null,
            "min_height": null,
            "min_width": null,
            "object_fit": null,
            "object_position": null,
            "order": null,
            "overflow": null,
            "overflow_x": null,
            "overflow_y": null,
            "padding": null,
            "right": null,
            "top": null,
            "visibility": null,
            "width": null
          }
        },
        "2260a46d393047aeb71e65cf9f2d0873": {
          "model_module": "@jupyter-widgets/controls",
          "model_name": "DescriptionStyleModel",
          "model_module_version": "1.5.0",
          "state": {
            "_model_module": "@jupyter-widgets/controls",
            "_model_module_version": "1.5.0",
            "_model_name": "DescriptionStyleModel",
            "_view_count": null,
            "_view_module": "@jupyter-widgets/base",
            "_view_module_version": "1.2.0",
            "_view_name": "StyleView",
            "description_width": ""
          }
        }
      }
    }
  },
  "nbformat": 4,
  "nbformat_minor": 0
}